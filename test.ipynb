{
 "cells": [
  {
   "cell_type": "code",
   "execution_count": 12,
   "metadata": {},
   "outputs": [
    {
     "name": "stdout",
     "output_type": "stream",
     "text": [
      "[[0. 1. 2.]\n",
      " [3. 4. 5.]\n",
      " [6. 7. 8.]]\n",
      "[]\n",
      "[]\n",
      "[]\n"
     ]
    }
   ],
   "source": [
    "import numpy as np\n",
    "x = np.arange(9.).reshape(3,  3)\n",
    "print(x)\n",
    "# 过滤掉每行最后一个小于6的元素\n",
    "# print(x[~(x[:, -2] < 8), :])\n",
    "# 截取小数点后两位\n",
    "# print(np.around(x, 2))\n",
    "\n",
    "# 每行第一个数为0时，过滤掉最后一个小于0.3的元素\n",
    "print(x[(x[:, 0] == 0) & (x[:, -1] < 0.3), :])\n",
    "print(x[(x[:, 0] == 1) & (x[:, -1] < 0.3), :])\n",
    "print(x[(x[:, 0] == 2) & (x[:, -1] < 0.3), :])\n",
    "\n",
    "# 打印 赵于婷\n",
    "\n"
   ]
  }
 ],
 "metadata": {
  "kernelspec": {
   "display_name": "Python 3.9.13 64-bit (system)",
   "language": "python",
   "name": "python3"
  },
  "language_info": {
   "codemirror_mode": {
    "name": "ipython",
    "version": 3
   },
   "file_extension": ".py",
   "mimetype": "text/x-python",
   "name": "python",
   "nbconvert_exporter": "python",
   "pygments_lexer": "ipython3",
   "version": "3.9.13"
  },
  "orig_nbformat": 4,
  "vscode": {
   "interpreter": {
    "hash": "667439890dbd35e7c6931ff2bfb667f5322b2e0f64aeff41fa07f855c9738055"
   }
  }
 },
 "nbformat": 4,
 "nbformat_minor": 2
}
